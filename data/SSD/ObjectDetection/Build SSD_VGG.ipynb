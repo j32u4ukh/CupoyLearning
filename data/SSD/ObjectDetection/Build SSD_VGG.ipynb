{
 "cells": [
  {
   "cell_type": "code",
   "execution_count": 1,
   "metadata": {},
   "outputs": [
    {
     "name": "stdout",
     "output_type": "stream",
     "text": [
      "path: D:\\Programing\\PycharmProjects\\NeuralNetwork\\CupoyLearning\\data\\SSD\\ObjectDetection\\data\\coco.py\n",
      "COCO_ROOT: D:\\Programing\\PycharmProjects\\NeuralNetwork\\CupoyLearning\\data\\SSD\\ObjectDetection\\data\n"
     ]
    }
   ],
   "source": [
    "from data import coco"
   ]
  },
  {
   "cell_type": "code",
   "execution_count": 2,
   "metadata": {},
   "outputs": [],
   "source": [
    "from ssd import build_ssd\n",
    "from layers.box_utils import *\n",
    "import os\n",
    "import sys\n",
    "import torch\n",
    "from torch.autograd import Variable\n",
    "import torch.nn as nn\n",
    "import torch.optim as optim\n",
    "import torch.backends.cudnn as cudnn\n",
    "import torch.nn.init as init\n",
    "import torch.utils.data as data\n",
    "import numpy as np\n",
    "import argparse\n",
    "import torchvision\n",
    "import pickle\n",
    "from layers import box_utils\n",
    "from layers import Detect\n",
    "from layers import functions\n",
    "from layers import modules\n",
    "import torch.nn.functional as F\n",
    "from math import sqrt as sqrt\n",
    "from itertools import product as product\n",
    "\n",
    "from torch.autograd import Function\n",
    "from layers.box_utils import decode, nms"
   ]
  },
  {
   "cell_type": "code",
   "execution_count": 3,
   "metadata": {},
   "outputs": [
    {
     "name": "stdout",
     "output_type": "stream",
     "text": [
      "Loading weights into state dict...\n",
      "Finished!\n"
     ]
    },
    {
     "name": "stderr",
     "output_type": "stream",
     "text": [
      "D:\\Programing\\PycharmProjects\\NeuralNetwork\\CupoyLearning\\data\\SSD\\ObjectDetection\\ssd.py:34: UserWarning: volatile was removed and now has no effect. Use `with torch.no_grad():` instead.\n",
      "  self.priors = Variable(self.priorbox.forward(), volatile=True)\n"
     ]
    }
   ],
   "source": [
    "## 詳細模型結構可以參考ssd.py\n",
    "ssd_net=build_ssd('train', size=300, num_classes=21)\n",
    "ssd_net.load_weights('./demo/ssd300_mAP_77.43_v2.pth')"
   ]
  },
  {
   "cell_type": "markdown",
   "metadata": {},
   "source": [
    "## 默認Config檔案在data/config.py內"
   ]
  },
  {
   "cell_type": "code",
   "execution_count": 4,
   "metadata": {},
   "outputs": [
    {
     "data": {
      "text/plain": [
       "{'num_classes': 21,\n",
       " 'lr_steps': (80000, 100000, 120000),\n",
       " 'max_iter': 120000,\n",
       " 'feature_maps': [38, 19, 10, 5, 3, 1],\n",
       " 'min_dim': 300,\n",
       " 'steps': [8, 16, 32, 64, 100, 300],\n",
       " 'min_sizes': [30, 60, 111, 162, 213, 264],\n",
       " 'max_sizes': [60, 111, 162, 213, 264, 315],\n",
       " 'aspect_ratios': [[2], [2, 3], [2, 3], [2, 3], [2], [2]],\n",
       " 'variance': [0.1, 0.2],\n",
       " 'clip': True,\n",
       " 'name': 'VOC'}"
      ]
     },
     "execution_count": 4,
     "metadata": {},
     "output_type": "execute_result"
    }
   ],
   "source": [
    "ssd_net.cfg"
   ]
  },
  {
   "cell_type": "code",
   "execution_count": 5,
   "metadata": {},
   "outputs": [],
   "source": [
    "cfg = {\n",
    "    'num_classes': 21,\n",
    "    'lr_steps': (80000, 100000, 120000),\n",
    "    'max_iter': 120000,\n",
    "    'feature_maps': [38, 19, 10, 5, 3, 1],\n",
    "    'min_dim': 300,\n",
    "    'steps': [8, 16, 32, 64, 100, 300],\n",
    "    'min_sizes': [30, 60, 111, 162, 213, 264],\n",
    "    'max_sizes': [60, 111, 162, 213, 264, 315],\n",
    "    'aspect_ratios': [[2], [2, 3], [2, 3], [2, 3], [2], [2]],\n",
    "    'variance': [0.1, 0.2],\n",
    "    'clip': True,\n",
    "    'name': 'VOC',\n",
    "}"
   ]
  },
  {
   "cell_type": "markdown",
   "metadata": {},
   "source": [
    "### 'aspect_ratios' : 使用六張Feature Map，每一張上方有預設的anchor boxes，Boxes aspect ratio可以自己設定\n",
    "### 'feature_maps' : 使用feature map大小為[38x38, 19x19, 10x10, 5x5, 3x3, 1x1]\n",
    "### 'min_sizes'、'max_sizes'可藉由下方算式算出，由作者自行設計\n",
    "### 'steps' : Feature map回放回原本300*300的比例，如38要回放為300大概就是8倍\n",
    "### 'variance' : Training 的一個trick，加速收斂，詳見：https://github.com/rykov8/ssd_keras/issues/53"
   ]
  },
  {
   "cell_type": "markdown",
   "metadata": {},
   "source": [
    "---"
   ]
  },
  {
   "cell_type": "markdown",
   "metadata": {},
   "source": [
    "## 'min_sizes'、'max_sizes' 計算"
   ]
  },
  {
   "cell_type": "code",
   "execution_count": 6,
   "metadata": {},
   "outputs": [
    {
     "name": "stdout",
     "output_type": "stream",
     "text": [
      "min_sizes:  [30.0, 60.0, 111.0, 162.0, 213.0, 264.0]\n",
      "max_sizes:  [60.0, 111.0, 162.0, 213.0, 264.0, 315.0]\n"
     ]
    }
   ],
   "source": [
    "import math\n",
    "# source:https://blog.csdn.net/gbyy42299/article/details/81235891\n",
    "\n",
    "# 维度\n",
    "min_dim = 300\n",
    "# conv4_3 ==> 38 x 38\n",
    "# fc7 ==> 19 x 19\n",
    "# conv6_2 ==> 10 x 10\n",
    "# conv7_2 ==> 5 x 5\n",
    "# conv8_2 ==> 3 x 3\n",
    "# conv9_2 ==> 1 x 1\n",
    "\n",
    "# prior_box來源層，可以更改。很多改進都是基於此處的調整。\n",
    "mbox_source_layers = ['conv4_3', 'fc7', 'conv6_2', 'conv7_2', 'conv8_2', 'conv9_2']\n",
    "\n",
    "# in percent %\n",
    "# 這裡即是論文中所說的 Smin = 0.2，Smax = 0.9的初始值，經過下面的運算即可得到 min_sizes, max_sizes\n",
    "min_ratio = 20\n",
    "max_ratio = 90\n",
    "\n",
    "# 取一個間距步長，即在下面用於循環給比取值時起一個間距作用。可以用一個具體的數值代替，這裡等於 17。\n",
    "step = int(math.floor((max_ratio - min_ratio) / (len(mbox_source_layers) - 2)))\n",
    "\n",
    "# 經過以下運算得到 min_sizes 和 max_sizes。\n",
    "min_sizes = []  \n",
    "max_sizes = []\n",
    "\n",
    "for ratio in range(min_ratio, max_ratio + 1, step):\n",
    "    # 從 min_ratio 至 max_ratio + 1 每隔步驟 17 取一個值賦值給比。注意範圍函數的作用。\n",
    "    # min_sizes.append() 函數即把括號內部每次得到的值依次給了 min_sizes。\n",
    "    min_sizes.append(min_dim * ratio / 100.)\n",
    "    max_sizes.append(min_dim * (ratio + step) / 100.)\n",
    "    \n",
    "min_sizes = [min_dim * 10 / 100.] + min_sizes\n",
    "max_sizes = [min_dim * 20 / 100.] + max_sizes\n",
    "\n",
    "# steps: 這一步要仔細理解，即計算卷積層產生的 prior_box 距離原圖的步長，先驗框中心點的坐標會乘以 step，\n",
    "# 相當於從特徵映射位置映射回原圖位置，比如 conv4_3 輸出特徵圖大小為 38 * 38，而輸入的圖片為 300 * 300，\n",
    "# 所以38 * 8 約等於 300，所以映射步長為 8. 這是針對 300 * 300 的訓練圖片。\n",
    "steps = [8, 16, 32, 64, 100, 300]  \n",
    "aspect_ratios = [[2], [2, 3], [2, 3], [2, 3], [2], [2]]\n",
    " \n",
    "print('min_sizes: ',min_sizes)\n",
    "print('max_sizes: ',max_sizes)\n"
   ]
  },
  {
   "cell_type": "markdown",
   "metadata": {},
   "source": [
    "---"
   ]
  },
  {
   "cell_type": "markdown",
   "metadata": {},
   "source": [
    "## Default anchor boxes設計原理，看懂收穫很多\n",
    "##### 可以理解 SSD原文中 8732個anchors是怎麼來的\n",
    "##### 38×38×4+19×19×6+10×10×6+5×5×6+3×3×4+1×1×4=8732"
   ]
  },
  {
   "cell_type": "code",
   "execution_count": 7,
   "metadata": {},
   "outputs": [],
   "source": [
    "class PriorBox(object):\n",
    "    \"\"\"Compute priorbox coordinates in center-offset form for each source\n",
    "    feature map.\n",
    "    \"\"\"\n",
    "    def __init__(self, cfg):\n",
    "        super(PriorBox, self).__init__()\n",
    "        self.image_size = cfg['min_dim']\n",
    "        # number of priors for feature map location (either 4 or 6)\n",
    "        self.num_priors = len(cfg['aspect_ratios'])\n",
    "        self.variance = cfg['variance'] or [0.1]\n",
    "        self.feature_maps = cfg['feature_maps']\n",
    "        self.min_sizes = cfg['min_sizes']\n",
    "        self.max_sizes = cfg['max_sizes']\n",
    "        self.steps = cfg['steps']\n",
    "        self.aspect_ratios = cfg['aspect_ratios']\n",
    "        self.clip = cfg['clip']\n",
    "        self.version = cfg['name']\n",
    "        for v in self.variance:\n",
    "            if v <= 0:\n",
    "                raise ValueError('Variances must be greater than 0')\n",
    "\n",
    "    def forward(self):\n",
    "        mean = []\n",
    "        '''依照Feature map大小找出所有的pixel 中心'''\n",
    "        '''下方這兩個loop會找出W個x軸pixel對上W個y軸pixel，假如現在是在38x38的feature map上，就會有38x38個值'''\n",
    "        '''ex. [0,1],[0,2]..[0,37] [1,1],[1,2]..[1,37]..........[37,37]'''\n",
    "        for k, f in enumerate(self.feature_maps):\n",
    "            for i, j in product(range(f), repeat=2):\n",
    "                f_k = self.image_size / self.steps[k] ## 如self.steps==8，就是先將原圖size normalize(/300)後再乘上8\n",
    "                # unit center x,y\n",
    "                '''中心點'''\n",
    "                cx = (j + 0.5) / f_k\n",
    "                cy = (i + 0.5) / f_k\n",
    "\n",
    "                # aspect_ratio: 1\n",
    "                # rel size: min_size\n",
    "                '''/self.image_size 就是在做normalization '''\n",
    "                s_k = self.min_sizes[k]/self.image_size\n",
    "                '''小的正方形box'''\n",
    "                mean += [cx, cy, s_k, s_k]\n",
    "\n",
    "                # aspect_ratio: 1\n",
    "                # rel size: sqrt(s_k * s_(k+1))\n",
    "                '''大的正方形box'''\n",
    "                s_k_prime = sqrt(s_k * (self.max_sizes[k]/self.image_size))\n",
    "                mean += [cx, cy, s_k_prime, s_k_prime]\n",
    "\n",
    "                # rest of aspect ratios\n",
    "                for ar in self.aspect_ratios[k]:\n",
    "                    '''aspect ratio 2,3'''\n",
    "                    mean += [cx, cy, s_k*sqrt(ar), s_k/sqrt(ar)]\n",
    "                    '''aspect ratio 1/2,1/3'''\n",
    "                    mean += [cx, cy, s_k/sqrt(ar), s_k*sqrt(ar)]\n",
    "        # back to torch land\n",
    "        output = torch.Tensor(mean).view(-1, 4)\n",
    "        if self.clip:\n",
    "            output.clamp_(max=1, min=0)\n",
    "        return output"
   ]
  },
  {
   "cell_type": "code",
   "execution_count": 8,
   "metadata": {},
   "outputs": [],
   "source": [
    "PriorBox_Demo=PriorBox(cfg)"
   ]
  },
  {
   "cell_type": "code",
   "execution_count": 9,
   "metadata": {},
   "outputs": [
    {
     "name": "stdout",
     "output_type": "stream",
     "text": [
      "torch.Size([8732, 4])\n"
     ]
    }
   ],
   "source": [
    "print(PriorBox_Demo.forward().shape)"
   ]
  },
  {
   "cell_type": "markdown",
   "metadata": {},
   "source": [
    "---"
   ]
  },
  {
   "cell_type": "markdown",
   "metadata": {},
   "source": [
    "## Loss 如何設計"
   ]
  },
  {
   "cell_type": "code",
   "execution_count": 10,
   "metadata": {},
   "outputs": [],
   "source": [
    "class MultiBoxLoss(nn.Module):\n",
    "\n",
    "    def __init__(self, num_classes, overlap_thresh, prior_for_matching,\n",
    "                 bkg_label, neg_mining, neg_pos, neg_overlap, encode_target,\n",
    "                 use_gpu=True):\n",
    "        super(MultiBoxLoss, self).__init__()\n",
    "        self.use_gpu = use_gpu\n",
    "        '''有幾類'''\n",
    "        self.num_classes = num_classes\n",
    "        '''判定為正樣本的threshold，一般設為0.5'''\n",
    "        self.threshold = overlap_thresh\n",
    "        '''background自己會有一類，不用Label，假如我們有20類一樣標註0-19，下方會自己空出一類給background'''\n",
    "        self.background_label = bkg_label\n",
    "        self.encode_target = encode_target\n",
    "        self.use_prior_for_matching = prior_for_matching\n",
    "        '''OHEM，找出分得最不好的樣品，也就是confidence score比較低的正負樣品'''\n",
    "        self.do_neg_mining = neg_mining\n",
    "        '''負樣品與正樣品的比例，通常是3:1'''\n",
    "        self.negpos_ratio = neg_pos\n",
    "        self.neg_overlap = neg_overlap\n",
    "        self.variance = cfg['variance']\n",
    "     \n",
    "\n",
    "    def forward(self, predictions, targets):\n",
    "\n",
    "        '''prediction會output三個值'''\n",
    "        '''loc shape: bounding box 資訊，torch.size(batch_size,num_priors,4)'''\n",
    "        '''conf shape: 每一個bounding box 的信心程度，torch.size(batch_size,num_priors,num_classes)'''\n",
    "        '''priors shape: 預設的defaul box， torch.size(num_priors,4)'''\n",
    "        loc_data, conf_data, priors = predictions\n",
    "        \n",
    "        if self.use_gpu:\n",
    "            priors = priors.cuda()\n",
    "        \n",
    "        num = loc_data.size(0)\n",
    "        priors = priors[:loc_data.size(1), :]\n",
    "        num_priors = (priors.size(0))\n",
    "        num_classes = self.num_classes\n",
    "\n",
    "        # match priors (default boxes) and ground truth boxes\n",
    "        loc_t = torch.Tensor(num, num_priors, 4)\n",
    "        conf_t = torch.LongTensor(num, num_priors)\n",
    "        for idx in range(num):\n",
    "            truths = targets[idx][:, :-1].data\n",
    "            labels = targets[idx][:, -1].data\n",
    "            defaults = priors.data\n",
    "            '''jaccard 計算每一個BBOX與ground truth的IOU'''\n",
    "            match(self.threshold, truths, defaults, self.variance, labels,\n",
    "                  loc_t, conf_t, idx)\n",
    "        if self.use_gpu:\n",
    "            loc_t = loc_t.cuda()\n",
    "            conf_t = conf_t.cuda()\n",
    "        '''用Variable包裝'''\n",
    "        loc_t = Variable(loc_t, requires_grad=False)\n",
    "        conf_t = Variable(conf_t, requires_grad=False)\n",
    "\n",
    "        pos = conf_t > 0\n",
    "        num_pos = pos.sum(dim=1, keepdim=True)\n",
    "\n",
    "\n",
    "        pos_idx = pos.unsqueeze(pos.dim()).expand_as(loc_data)\n",
    "        loc_p = loc_data[pos_idx].view(-1, 4)\n",
    "        loc_t = loc_t[pos_idx].view(-1, 4)\n",
    "        '''smooth_l1_loss 計算bounding box regression'''\n",
    "        loss_l = F.smooth_l1_loss(loc_p, loc_t, size_average=False)\n",
    "\n",
    "        # Compute max conf across batch for hard negative mining\n",
    "        batch_conf = conf_data.view(-1, self.num_classes)\n",
    "        loss_c = log_sum_exp(batch_conf) - batch_conf.gather(1, conf_t.view(-1, 1))\n",
    "\n",
    "        # Hard Negative Mining\n",
    "        loss_c = loss_c.view(num, -1)\n",
    "        loss_c[pos] = 0\n",
    "        '''排列confidence 的分數'''\n",
    "        _, loss_idx = loss_c.sort(1, descending=True)\n",
    "        _, idx_rank = loss_idx.sort(1)\n",
    "        num_pos = pos.long().sum(1, keepdim=True)\n",
    "        '''負樣品取出數量 == negpos_ratio*num_pos'''\n",
    "        num_neg = torch.clamp(self.negpos_ratio*num_pos, max=pos.size(1)-1)\n",
    "        neg = idx_rank < num_neg.expand_as(idx_rank)\n",
    "\n",
    "        # Confidence Loss Including Positive and Negative Examples\n",
    "        pos_idx = pos.unsqueeze(2).expand_as(conf_data)\n",
    "        neg_idx = neg.unsqueeze(2).expand_as(conf_data)\n",
    "        conf_p = conf_data[(pos_idx+neg_idx).gt(0)].view(-1, self.num_classes)\n",
    "        targets_weighted = conf_t[(pos+neg).gt(0)]\n",
    "        '''用cross_entropy做分類'''\n",
    "        loss_c = F.cross_entropy(conf_p, targets_weighted, size_average=False)\n",
    "\n",
    "        # Sum of losses: L(x,c,l,g) = (Lconf(x, c) + αLloc(x,l,g)) / N\n",
    "        #double轉成torch.float64\n",
    "        N = num_pos.data.sum().double()\n",
    "        loss_l = loss_l.double()\n",
    "        loss_c = loss_c.double()\n",
    "        loss_l /= N\n",
    "        loss_c /= N\n",
    "        return loss_l, loss_c\n"
   ]
  },
  {
   "cell_type": "markdown",
   "metadata": {},
   "source": [
    "## 產生我們Loss function，注意這裡的class要包含背景"
   ]
  },
  {
   "cell_type": "code",
   "execution_count": 11,
   "metadata": {},
   "outputs": [],
   "source": [
    "'''要不要使用gpu'''\n",
    "Use_cuda=True\n",
    "criterion = MultiBoxLoss(21, 0.5, True, 0, False, 3, 0.5,False, Use_cuda,)"
   ]
  },
  {
   "cell_type": "markdown",
   "metadata": {},
   "source": [
    "----"
   ]
  },
  {
   "cell_type": "markdown",
   "metadata": {},
   "source": [
    "## 基本設定"
   ]
  },
  {
   "cell_type": "code",
   "execution_count": 12,
   "metadata": {},
   "outputs": [
    {
     "name": "stdout",
     "output_type": "stream",
     "text": [
      "Loading weights into state dict...\n",
      "Finished!\n"
     ]
    }
   ],
   "source": [
    "ssd_net=build_ssd('train', size=300, num_classes=21)\n",
    "use_pretrained=True\n",
    "if use_pretrained:\n",
    "    ssd_net.load_weights('./demo/ssd300_mAP_77.43_v2.pth')\n",
    "    \n",
    "net=ssd_net"
   ]
  },
  {
   "cell_type": "code",
   "execution_count": 13,
   "metadata": {},
   "outputs": [],
   "source": [
    "'''tensor type會依照cpu或gpu有所不同'''\n",
    "if torch.cuda.is_available():\n",
    "    torch.set_default_tensor_type('torch.cuda.FloatTensor')\n",
    "#     if args.cuda:\n",
    "#         torch.set_default_tensor_type('torch.cuda.FloatTensor')\n",
    "#     if not args.cuda:\n",
    "#         print(\"WARNING: It looks like you have a CUDA device, but aren't \" +\n",
    "#               \"using CUDA.\\nRun with --cuda for optimal training speed.\")\n",
    "#         torch.set_default_tensor_type('torch.FloatTensor')\n",
    "else:\n",
    "    torch.set_default_tensor_type('torch.FloatTensor')\n",
    "\n",
    "'''使用GPU時可以開啟DataParallel，但當Input是不定大小時，要關掉'''\n",
    "if Use_cuda:\n",
    "    net = torch.nn.DataParallel(ssd_net)\n",
    "    cudnn.benchmark = True\n",
    "    \n",
    "'''使用GPU時模型要轉成cuda'''\n",
    "if Use_cuda:\n",
    "    net = net.cuda()\n",
    "    \n",
    "batch_size_=1\n",
    "optimizer = optim.Adam(net.parameters(),lr=0.00001/batch_size_)"
   ]
  },
  {
   "cell_type": "markdown",
   "metadata": {},
   "source": [
    "---"
   ]
  },
  {
   "cell_type": "markdown",
   "metadata": {},
   "source": [
    "## 訓練"
   ]
  },
  {
   "cell_type": "markdown",
   "metadata": {},
   "source": [
    "## 這裡我們先示範輸入的 image,Label格式，真正在訓練時，準備成一樣格式即可"
   ]
  },
  {
   "cell_type": "code",
   "execution_count": 14,
   "metadata": {},
   "outputs": [
    {
     "name": "stderr",
     "output_type": "stream",
     "text": [
      "C:\\Users\\user\\.conda\\envs\\py37\\lib\\site-packages\\ipykernel_launcher.py:2: UserWarning: To copy construct from a tensor, it is recommended to use sourceTensor.clone().detach() or sourceTensor.clone().detach().requires_grad_(True), rather than torch.tensor(sourceTensor).\n",
      "  \n"
     ]
    }
   ],
   "source": [
    "'''輸入影像格式，假設batch size 為 4'''\n",
    "image_in = torch.tensor(torch.rand(4, 3, 300, 300), dtype=torch.float32)\n",
    "\n",
    "'''Label格式，沒有固定長度，看圖像中有幾個label就有幾個'''\n",
    "label_0=[[ 0.1804,  0.6076,  0.7701,  0.8485, 0.0000],\n",
    "         [ 0.2250,  0.0000,  0.9238,  0.5641, 3.0000],\n",
    "         [ 0.2250,  0.0000,  0.9238,  0.5641, 19.0000],\n",
    "         [ 0.2950,  0.0000,  0.8238,  0.3641, 6.0000],]\n",
    "label_1=[[ 0.1804,  0.6076,  0.7701,  0.8485, 13.0000],\n",
    "       [ 0.2250,  0.0000,  0.9238,  0.5641, 11.0000],\n",
    "       [ 0.2250,  0.0000,  0.9238,  0.5641, 7.0000],\n",
    "       [ 0.2950,  0.0000,  0.8238,  0.3641, 5.0000],]\n",
    "label_2=[[ 0.1804,  0.6076,  0.7701,  0.8485, 0.0000],\n",
    "       [ 0.2250,  0.0000,  0.9238,  0.5641, 3.0000],\n",
    "       [ 0.2250,  0.0000,  0.9238,  0.5641, 14.0000],\n",
    "       [ 0.2950,  0.0000,  0.8238,  0.3641, 6.0000],]\n",
    "label_3=[[ 0.1804,  0.6076,  0.7701,  0.8485, 0.0000],\n",
    "       [ 0.2250,  0.0000,  0.9238,  0.5641, 3.0000],\n",
    "       [ 0.2250,  0.0000,  0.9238,  0.5641, 19.0000],\n",
    "       [ 0.2950,  0.0000,  0.8238,  0.3641, 6.0000],]"
   ]
  },
  {
   "cell_type": "code",
   "execution_count": 15,
   "metadata": {},
   "outputs": [],
   "source": [
    "epochs=300\n",
    "iteration=1000"
   ]
  },
  {
   "cell_type": "code",
   "execution_count": 16,
   "metadata": {},
   "outputs": [
    {
     "name": "stdout",
     "output_type": "stream",
     "text": [
      "Use_cuda: True\n",
      "True\n",
      "True\n",
      "True\n",
      "True\n",
      "True\n"
     ]
    },
    {
     "name": "stderr",
     "output_type": "stream",
     "text": [
      "C:\\Users\\user\\.conda\\envs\\py37\\lib\\site-packages\\ipykernel_launcher.py:6: UserWarning: volatile was removed and now has no effect. Use `with torch.no_grad():` instead.\n",
      "  \n",
      "C:\\Users\\user\\.conda\\envs\\py37\\lib\\site-packages\\ipykernel_launcher.py:7: UserWarning: volatile was removed and now has no effect. Use `with torch.no_grad():` instead.\n",
      "  import sys\n",
      "C:\\Users\\user\\.conda\\envs\\py37\\lib\\site-packages\\ipykernel_launcher.py:8: UserWarning: volatile was removed and now has no effect. Use `with torch.no_grad():` instead.\n",
      "  \n",
      "C:\\Users\\user\\.conda\\envs\\py37\\lib\\site-packages\\ipykernel_launcher.py:9: UserWarning: volatile was removed and now has no effect. Use `with torch.no_grad():` instead.\n",
      "  if __name__ == '__main__':\n"
     ]
    }
   ],
   "source": [
    "print(\"Use_cuda:\", Use_cuda)\n",
    "\n",
    "'''要用Variable包裝tensor才能送入模型'''\n",
    "if Use_cuda:\n",
    "    image_ = Variable(image_in.cuda())\n",
    "    y = [Variable(torch.tensor(label_0).cuda(), volatile=True),\n",
    "         Variable(torch.tensor(label_1).cuda(), volatile=True),\n",
    "         Variable(torch.tensor(label_2).cuda(), volatile=True),\n",
    "         Variable(torch.tensor(label_3).cuda(), volatile=True)]      \n",
    "else:\n",
    "    image_ = Variable(image_in)\n",
    "    y = [Variable(torch.tensor(label_0), volatile=True),\n",
    "         Variable(torch.tensor(label_1), volatile=True),\n",
    "         Variable(torch.tensor(label_2), volatile=True),\n",
    "         Variable(torch.tensor(label_3), volatile=True)]\n",
    "\n",
    "print(image_.is_cuda)\n",
    "for i in y:\n",
    "    print(i.is_cuda)"
   ]
  },
  {
   "cell_type": "code",
   "execution_count": 35,
   "metadata": {},
   "outputs": [],
   "source": [
    "'''Forward Pass'''\n",
    "out = net(image_)"
   ]
  },
  {
   "cell_type": "code",
   "execution_count": 36,
   "metadata": {},
   "outputs": [
    {
     "name": "stdout",
     "output_type": "stream",
     "text": [
      "True torch.Size([4, 8732, 4])\n",
      "True torch.Size([4, 8732, 21])\n",
      "True torch.Size([8732, 4])\n"
     ]
    }
   ],
   "source": [
    "for o in out:\n",
    "    print(o.is_cuda, o.shape)"
   ]
  },
  {
   "cell_type": "code",
   "execution_count": 37,
   "metadata": {},
   "outputs": [],
   "source": [
    "n=0\n",
    "loss_sum=[]\n",
    "loc_loss=[]\n",
    "conf_loss=[]\n",
    "    \n",
    "'''Regression Loss and Classification Loss'''\n",
    "loss_l, loss_c = criterion(out,y )\n",
    "loss = loss_l + loss_c\n",
    "\n",
    "'''Backward'''\n",
    "loss.backward()\n",
    "\n",
    "loc_loss.append(loss_l.data.cpu().numpy())\n",
    "conf_loss.append(loss_c.data.cpu().numpy())\n",
    "loss_sum.append(loss.data.cpu().numpy())\n",
    "\n",
    "'''更新參數'''\n",
    "optimizer.step()\n",
    "\n",
    "'''清空Gradients'''\n",
    "optimizer.zero_grad()\n",
    "\n",
    "n += 1\n",
    "if n % 10 == 0:\n",
    "    print('BBOX Regression Loss: ', np.mean(loc_loss))\n",
    "    print('Classification Loss: ', np.mean(conf_loss))"
   ]
  },
  {
   "cell_type": "code",
   "execution_count": 17,
   "metadata": {},
   "outputs": [
    {
     "name": "stderr",
     "output_type": "stream",
     "text": [
      "C:\\Users\\user\\.conda\\envs\\py37\\lib\\site-packages\\ipykernel_launcher.py:11: UserWarning: volatile was removed and now has no effect. Use `with torch.no_grad():` instead.\n",
      "  # This is added back by InteractiveShellApp.init_path()\n",
      "C:\\Users\\user\\.conda\\envs\\py37\\lib\\site-packages\\ipykernel_launcher.py:12: UserWarning: volatile was removed and now has no effect. Use `with torch.no_grad():` instead.\n",
      "  if sys.path[0] == '':\n",
      "C:\\Users\\user\\.conda\\envs\\py37\\lib\\site-packages\\ipykernel_launcher.py:13: UserWarning: volatile was removed and now has no effect. Use `with torch.no_grad():` instead.\n",
      "  del sys.path[0]\n",
      "C:\\Users\\user\\.conda\\envs\\py37\\lib\\site-packages\\ipykernel_launcher.py:14: UserWarning: volatile was removed and now has no effect. Use `with torch.no_grad():` instead.\n",
      "  \n",
      "C:\\Users\\user\\.conda\\envs\\py37\\lib\\site-packages\\torch\\nn\\_reduction.py:43: UserWarning: size_average and reduce args will be deprecated, please use reduction='sum' instead.\n",
      "  warnings.warn(warning.format(ret))\n"
     ]
    },
    {
     "name": "stdout",
     "output_type": "stream",
     "text": [
      "BBOX Regression Loss:  1.9491689046223961\n",
      "Classification Loss:  8.126730177137585\n",
      "BBOX Regression Loss:  1.7476403766208228\n",
      "Classification Loss:  6.313653818766277\n",
      "BBOX Regression Loss:  1.628384036782347\n",
      "Classification Loss:  5.469294267819251\n",
      "BBOX Regression Loss:  1.4904024283091226\n",
      "Classification Loss:  4.913224333303946\n",
      "BBOX Regression Loss:  1.3578789929990416\n",
      "Classification Loss:  4.479658350061487\n",
      "BBOX Regression Loss:  1.2333576320130146\n",
      "Classification Loss:  4.109942648145887\n",
      "BBOX Regression Loss:  1.122448966616676\n",
      "Classification Loss:  3.77766755926546\n",
      "BBOX Regression Loss:  1.0216769333238955\n",
      "Classification Loss:  3.472269493562204\n",
      "BBOX Regression Loss:  0.9289126254894116\n",
      "Classification Loss:  3.1925017682613164\n",
      "BBOX Regression Loss:  0.8473472579320273\n",
      "Classification Loss:  2.941122976585671\n",
      "BBOX Regression Loss:  0.7775255930544149\n",
      "Classification Loss:  2.7157291287123546\n",
      "BBOX Regression Loss:  0.7175112936599756\n",
      "Classification Loss:  2.5143544261838184\n",
      "BBOX Regression Loss:  0.6653215166000899\n",
      "Classification Loss:  2.3354289221967384\n",
      "BBOX Regression Loss:  0.6195651913603778\n",
      "Classification Loss:  2.1768581593478165\n",
      "BBOX Regression Loss:  0.5792579941617119\n",
      "Classification Loss:  2.0363091898553165\n",
      "BBOX Regression Loss:  0.5435908603033535\n",
      "Classification Loss:  1.9115685177070123\n",
      "BBOX Regression Loss:  0.5119266232000848\n",
      "Classification Loss:  1.8006092342416185\n",
      "BBOX Regression Loss:  0.483664665162686\n",
      "Classification Loss:  1.7015040632138037\n",
      "BBOX Regression Loss:  0.4583268857715365\n",
      "Classification Loss:  1.6125694521221734\n",
      "BBOX Regression Loss:  0.43551371813786255\n",
      "Classification Loss:  1.5323734557628632\n",
      "BBOX Regression Loss:  0.41502012935133625\n",
      "Classification Loss:  1.4597354134554583\n",
      "BBOX Regression Loss:  0.396247046918417\n",
      "Classification Loss:  1.3936478080171526\n",
      "BBOX Regression Loss:  0.3790695274659641\n",
      "Classification Loss:  1.3332678907351407\n",
      "BBOX Regression Loss:  0.36330756174003775\n",
      "Classification Loss:  1.2778884408650575\n",
      "BBOX Regression Loss:  0.3487990026904477\n",
      "Classification Loss:  1.226914682600233\n",
      "BBOX Regression Loss:  0.3354019538537888\n",
      "Classification Loss:  1.1798426003537625\n",
      "BBOX Regression Loss:  0.32299879975553053\n",
      "Classification Loss:  1.1362419266432564\n",
      "BBOX Regression Loss:  0.3115816445073862\n",
      "Classification Loss:  1.0957467688139153\n",
      "BBOX Regression Loss:  0.30088441865149973\n",
      "Classification Loss:  1.0580381090765862\n",
      "BBOX Regression Loss:  0.2908753386741206\n",
      "Classification Loss:  1.0228371352030905\n",
      "BBOX Regression Loss:  0.2815031577791828\n",
      "Classification Loss:  0.9899007878423163\n",
      "BBOX Regression Loss:  0.27277359481226154\n",
      "Classification Loss:  0.9590177425907719\n",
      "BBOX Regression Loss:  0.2645585343475829\n",
      "Classification Loss:  0.9300044045838978\n",
      "BBOX Regression Loss:  0.2567940566991101\n",
      "Classification Loss:  0.9026950777226284\n",
      "BBOX Regression Loss:  0.2494642100238769\n",
      "Classification Loss:  0.8769429237880404\n",
      "BBOX Regression Loss:  0.24253898810503294\n",
      "Classification Loss:  0.8526182110662813\n",
      "BBOX Regression Loss:  0.2359875897461366\n",
      "Classification Loss:  0.8296055246759821\n",
      "BBOX Regression Loss:  0.22983293388722845\n",
      "Classification Loss:  0.8078034031228479\n",
      "BBOX Regression Loss:  0.22395627636186943\n",
      "Classification Loss:  0.7871172237033971\n",
      "BBOX Regression Loss:  0.2183643952826107\n",
      "Classification Loss:  0.7674639158116446\n",
      "BBOX Regression Loss:  0.21304196729261662\n",
      "Classification Loss:  0.7487676645897484\n",
      "BBOX Regression Loss:  0.20797151574676917\n",
      "Classification Loss:  0.7309602625155575\n",
      "BBOX Regression Loss:  0.20313635097563304\n",
      "Classification Loss:  0.7139797572120317\n",
      "BBOX Regression Loss:  0.19852219773375124\n",
      "Classification Loss:  0.69776991910806\n",
      "BBOX Regression Loss:  0.19421703606074553\n",
      "Classification Loss:  0.6822807321626954\n",
      "BBOX Regression Loss:  0.19002918044639258\n",
      "Classification Loss:  0.6674663659263157\n",
      "BBOX Regression Loss:  0.18599729148475258\n",
      "Classification Loss:  0.653282199740128\n",
      "BBOX Regression Loss:  0.1821262109481689\n",
      "Classification Loss:  0.6396879642465968\n",
      "BBOX Regression Loss:  0.17841121898054196\n",
      "Classification Loss:  0.6266474901323325\n",
      "BBOX Regression Loss:  0.17484393532431028\n",
      "Classification Loss:  0.6141276477531151\n",
      "BBOX Regression Loss:  0.17141625620359227\n",
      "Classification Loss:  0.602097926074037\n",
      "BBOX Regression Loss:  0.16812036312219636\n",
      "Classification Loss:  0.5905301438097941\n",
      "BBOX Regression Loss:  0.16502171414818465\n",
      "Classification Loss:  0.579398785947004\n",
      "BBOX Regression Loss:  0.1620000103985086\n",
      "Classification Loss:  0.5686802602762712\n",
      "BBOX Regression Loss:  0.15906695030691173\n",
      "Classification Loss:  0.5583514943588462\n",
      "BBOX Regression Loss:  0.15623145655983497\n",
      "Classification Loss:  0.5483912885819793\n",
      "BBOX Regression Loss:  0.1534925967380137\n",
      "Classification Loss:  0.5387800191423194\n",
      "BBOX Regression Loss:  0.15084704056921588\n",
      "Classification Loss:  0.5294996296461209\n",
      "BBOX Regression Loss:  0.14829079696118208\n",
      "Classification Loss:  0.5205333246948279\n",
      "BBOX Regression Loss:  0.14581959667896752\n",
      "Classification Loss:  0.5118654449927953\n",
      "BBOX Regression Loss:  0.14342975040642597\n",
      "Classification Loss:  0.5034813663636688\n",
      "BBOX Regression Loss:  0.14113332876136586\n",
      "Classification Loss:  0.49536766018918754\n",
      "BBOX Regression Loss:  0.13889886567202694\n",
      "Classification Loss:  0.4875113279520939\n",
      "BBOX Regression Loss:  0.13673081600069156\n",
      "Classification Loss:  0.4799002752949795\n",
      "BBOX Regression Loss:  0.13462799385953675\n",
      "Classification Loss:  0.47252315201990286\n",
      "BBOX Regression Loss:  0.13258859830695083\n",
      "Classification Loss:  0.4653693190996361\n",
      "BBOX Regression Loss:  0.13060990833507172\n",
      "Classification Loss:  0.4584287888968169\n",
      "BBOX Regression Loss:  0.12868933744129227\n",
      "Classification Loss:  0.45169215895771203\n",
      "BBOX Regression Loss:  0.12683346639065887\n",
      "Classification Loss:  0.4451506099455214\n",
      "BBOX Regression Loss:  0.12511414753954145\n",
      "Classification Loss:  0.43879671368018663\n",
      "BBOX Regression Loss:  0.12337417874418716\n",
      "Classification Loss:  0.43262247713394447\n",
      "BBOX Regression Loss:  0.12166741095717108\n",
      "Classification Loss:  0.4266198188311769\n",
      "BBOX Regression Loss:  0.12000325683878353\n",
      "Classification Loss:  0.4207813667198657\n",
      "BBOX Regression Loss:  0.1183825718202745\n",
      "Classification Loss:  0.41510037452250986\n",
      "BBOX Regression Loss:  0.11680454658215399\n",
      "Classification Loss:  0.4095705669308886\n",
      "BBOX Regression Loss:  0.11526786134968738\n",
      "Classification Loss:  0.40418600158849416\n",
      "BBOX Regression Loss:  0.11377101348155715\n",
      "Classification Loss:  0.39894105227536\n",
      "BBOX Regression Loss:  0.11231251017694292\n",
      "Classification Loss:  0.3938303682652408\n",
      "BBOX Regression Loss:  0.11089091451632825\n",
      "Classification Loss:  0.3888488784173929\n",
      "BBOX Regression Loss:  0.10950485141201743\n",
      "Classification Loss:  0.3839917568365733\n",
      "BBOX Regression Loss:  0.10815382560581378\n",
      "Classification Loss:  0.37925442845842094\n",
      "BBOX Regression Loss:  0.10688181315926477\n",
      "Classification Loss:  0.3746329371845173\n",
      "BBOX Regression Loss:  0.10560756551002076\n",
      "Classification Loss:  0.3701230893013787\n",
      "BBOX Regression Loss:  0.10435530160798095\n",
      "Classification Loss:  0.36572063872212873\n",
      "BBOX Regression Loss:  0.10312938252479474\n",
      "Classification Loss:  0.36142167496525385\n",
      "BBOX Regression Loss:  0.10193087260719341\n",
      "Classification Loss:  0.3572225270961298\n",
      "BBOX Regression Loss:  0.10075952689513315\n",
      "Classification Loss:  0.3531197436163403\n",
      "BBOX Regression Loss:  0.09961466089092086\n",
      "Classification Loss:  0.349110055913026\n",
      "BBOX Regression Loss:  0.098495470947424\n",
      "Classification Loss:  0.3451903306788024\n",
      "BBOX Regression Loss:  0.0974011310399534\n",
      "Classification Loss:  0.3413575874336463\n",
      "BBOX Regression Loss:  0.09633083344116898\n",
      "Classification Loss:  0.3376089675668104\n",
      "BBOX Regression Loss:  0.09528390146989059\n",
      "Classification Loss:  0.3339417370813097\n",
      "BBOX Regression Loss:  0.0943098770122935\n",
      "Classification Loss:  0.33035342345813123\n",
      "BBOX Regression Loss:  0.09333120622353538\n",
      "Classification Loss:  0.3268422739161949\n",
      "BBOX Regression Loss:  0.09235747933758019\n",
      "Classification Loss:  0.3234051261589541\n",
      "BBOX Regression Loss:  0.09139811798166918\n",
      "Classification Loss:  0.32003947808234773\n",
      "BBOX Regression Loss:  0.0904568456490891\n",
      "Classification Loss:  0.3167430575360956\n",
      "BBOX Regression Loss:  0.08953419107367246\n",
      "Classification Loss:  0.3135137505091597\n",
      "BBOX Regression Loss:  0.08862996080520152\n",
      "Classification Loss:  0.3103495287083527\n"
     ]
    },
    {
     "name": "stdout",
     "output_type": "stream",
     "text": [
      "BBOX Regression Loss:  0.08774374437141443\n",
      "Classification Loss:  0.30724845228371794\n"
     ]
    },
    {
     "ename": "FileNotFoundError",
     "evalue": "[Errno 2] No such file or directory: 'weights/Ｗeights.pth'",
     "output_type": "error",
     "traceback": [
      "\u001b[1;31m---------------------------------------------------------------------------\u001b[0m",
      "\u001b[1;31mFileNotFoundError\u001b[0m                         Traceback (most recent call last)",
      "\u001b[1;32m<ipython-input-17-69e5e4f98260>\u001b[0m in \u001b[0;36m<module>\u001b[1;34m\u001b[0m\n\u001b[0;32m     45\u001b[0m \u001b[1;33m\u001b[0m\u001b[0m\n\u001b[0;32m     46\u001b[0m     \u001b[1;34m'''儲存權重'''\u001b[0m\u001b[1;33m\u001b[0m\u001b[1;33m\u001b[0m\u001b[0m\n\u001b[1;32m---> 47\u001b[1;33m     \u001b[0mtorch\u001b[0m\u001b[1;33m.\u001b[0m\u001b[0msave\u001b[0m\u001b[1;33m(\u001b[0m\u001b[0mssd_net\u001b[0m\u001b[1;33m.\u001b[0m\u001b[0mstate_dict\u001b[0m\u001b[1;33m(\u001b[0m\u001b[1;33m)\u001b[0m\u001b[1;33m,\u001b[0m\u001b[1;34m'weights/Ｗeights.pth'\u001b[0m\u001b[1;33m)\u001b[0m\u001b[1;33m\u001b[0m\u001b[1;33m\u001b[0m\u001b[0m\n\u001b[0m",
      "\u001b[1;32m~\\.conda\\envs\\py37\\lib\\site-packages\\torch\\serialization.py\u001b[0m in \u001b[0;36msave\u001b[1;34m(obj, f, pickle_module, pickle_protocol)\u001b[0m\n\u001b[0;32m    258\u001b[0m         \u001b[1;33m>>\u001b[0m\u001b[1;33m>\u001b[0m \u001b[0mtorch\u001b[0m\u001b[1;33m.\u001b[0m\u001b[0msave\u001b[0m\u001b[1;33m(\u001b[0m\u001b[0mx\u001b[0m\u001b[1;33m,\u001b[0m \u001b[0mbuffer\u001b[0m\u001b[1;33m)\u001b[0m\u001b[1;33m\u001b[0m\u001b[1;33m\u001b[0m\u001b[0m\n\u001b[0;32m    259\u001b[0m     \"\"\"\n\u001b[1;32m--> 260\u001b[1;33m     \u001b[1;32mreturn\u001b[0m \u001b[0m_with_file_like\u001b[0m\u001b[1;33m(\u001b[0m\u001b[0mf\u001b[0m\u001b[1;33m,\u001b[0m \u001b[1;34m\"wb\"\u001b[0m\u001b[1;33m,\u001b[0m \u001b[1;32mlambda\u001b[0m \u001b[0mf\u001b[0m\u001b[1;33m:\u001b[0m \u001b[0m_save\u001b[0m\u001b[1;33m(\u001b[0m\u001b[0mobj\u001b[0m\u001b[1;33m,\u001b[0m \u001b[0mf\u001b[0m\u001b[1;33m,\u001b[0m \u001b[0mpickle_module\u001b[0m\u001b[1;33m,\u001b[0m \u001b[0mpickle_protocol\u001b[0m\u001b[1;33m)\u001b[0m\u001b[1;33m)\u001b[0m\u001b[1;33m\u001b[0m\u001b[1;33m\u001b[0m\u001b[0m\n\u001b[0m\u001b[0;32m    261\u001b[0m \u001b[1;33m\u001b[0m\u001b[0m\n\u001b[0;32m    262\u001b[0m \u001b[1;33m\u001b[0m\u001b[0m\n",
      "\u001b[1;32m~\\.conda\\envs\\py37\\lib\\site-packages\\torch\\serialization.py\u001b[0m in \u001b[0;36m_with_file_like\u001b[1;34m(f, mode, body)\u001b[0m\n\u001b[0;32m    181\u001b[0m             \u001b[1;33m(\u001b[0m\u001b[0msys\u001b[0m\u001b[1;33m.\u001b[0m\u001b[0mversion_info\u001b[0m\u001b[1;33m[\u001b[0m\u001b[1;36m0\u001b[0m\u001b[1;33m]\u001b[0m \u001b[1;33m==\u001b[0m \u001b[1;36m3\u001b[0m \u001b[1;32mand\u001b[0m \u001b[0misinstance\u001b[0m\u001b[1;33m(\u001b[0m\u001b[0mf\u001b[0m\u001b[1;33m,\u001b[0m \u001b[0mpathlib\u001b[0m\u001b[1;33m.\u001b[0m\u001b[0mPath\u001b[0m\u001b[1;33m)\u001b[0m\u001b[1;33m)\u001b[0m\u001b[1;33m:\u001b[0m\u001b[1;33m\u001b[0m\u001b[1;33m\u001b[0m\u001b[0m\n\u001b[0;32m    182\u001b[0m         \u001b[0mnew_fd\u001b[0m \u001b[1;33m=\u001b[0m \u001b[1;32mTrue\u001b[0m\u001b[1;33m\u001b[0m\u001b[1;33m\u001b[0m\u001b[0m\n\u001b[1;32m--> 183\u001b[1;33m         \u001b[0mf\u001b[0m \u001b[1;33m=\u001b[0m \u001b[0mopen\u001b[0m\u001b[1;33m(\u001b[0m\u001b[0mf\u001b[0m\u001b[1;33m,\u001b[0m \u001b[0mmode\u001b[0m\u001b[1;33m)\u001b[0m\u001b[1;33m\u001b[0m\u001b[1;33m\u001b[0m\u001b[0m\n\u001b[0m\u001b[0;32m    184\u001b[0m     \u001b[1;32mtry\u001b[0m\u001b[1;33m:\u001b[0m\u001b[1;33m\u001b[0m\u001b[1;33m\u001b[0m\u001b[0m\n\u001b[0;32m    185\u001b[0m         \u001b[1;32mreturn\u001b[0m \u001b[0mbody\u001b[0m\u001b[1;33m(\u001b[0m\u001b[0mf\u001b[0m\u001b[1;33m)\u001b[0m\u001b[1;33m\u001b[0m\u001b[1;33m\u001b[0m\u001b[0m\n",
      "\u001b[1;31mFileNotFoundError\u001b[0m: [Errno 2] No such file or directory: 'weights/Ｗeights.pth'"
     ]
    }
   ],
   "source": [
    "for epoch in range(epochs):\n",
    "    n=0\n",
    "    loss_sum=[]\n",
    "    loc_loss=[]\n",
    "    conf_loss=[]\n",
    "    \n",
    "    for number__ in range(iteration) :\n",
    "        '''要用Variable包裝tensor才能送入模型'''\n",
    "        if Use_cuda:\n",
    "            image_ = Variable(image_in.cuda())\n",
    "            y = [Variable(torch.tensor(label_0).cuda(), volatile=True),\n",
    "                 Variable(torch.tensor(label_1).cuda(), volatile=True),\n",
    "                 Variable(torch.tensor(label_2).cuda(), volatile=True),\n",
    "                 Variable(torch.tensor(label_3).cuda(), volatile=True)]      \n",
    "        else:\n",
    "            image_ = Variable(image_in)\n",
    "            y = [Variable(torch.tensor(label_0), volatile=True),\n",
    "                 Variable(torch.tensor(label_1), volatile=True),\n",
    "                 Variable(torch.tensor(label_2), volatile=True),\n",
    "                 Variable(torch.tensor(label_3), volatile=True)]\n",
    "\n",
    "        '''Forward Pass'''\n",
    "        out = net(image_)\n",
    "        '''Regression Loss and Classification Loss'''\n",
    "        loss_l, loss_c = criterion(out,y )\n",
    "        loss = loss_l + loss_c\n",
    "        \n",
    "        '''Backward'''\n",
    "        loss.backward()\n",
    "\n",
    "        loc_loss.append(loss_l.data.cpu().numpy())\n",
    "        conf_loss.append(loss_c.data.cpu().numpy())\n",
    "        loss_sum.append(loss.data.cpu().numpy())\n",
    "        \n",
    "        '''更新參數'''\n",
    "        optimizer.step()\n",
    "        \n",
    "        '''清空Gradients'''\n",
    "        optimizer.zero_grad()\n",
    "        \n",
    "        n += 1\n",
    "        if n % 10 == 0:\n",
    "            print('BBOX Regression Loss: ', np.mean(loc_loss))\n",
    "            print('Classification Loss: ', np.mean(conf_loss))\n",
    "            \n",
    "    '''儲存權重'''\n",
    "    torch.save(ssd_net.state_dict(),'weights/Ｗeights.pth')"
   ]
  },
  {
   "cell_type": "code",
   "execution_count": null,
   "metadata": {},
   "outputs": [],
   "source": []
  }
 ],
 "metadata": {
  "kernelspec": {
   "display_name": "Python 3",
   "language": "python",
   "name": "python3"
  },
  "language_info": {
   "codemirror_mode": {
    "name": "ipython",
    "version": 3
   },
   "file_extension": ".py",
   "mimetype": "text/x-python",
   "name": "python",
   "nbconvert_exporter": "python",
   "pygments_lexer": "ipython3",
   "version": "3.7.4"
  }
 },
 "nbformat": 4,
 "nbformat_minor": 2
}
